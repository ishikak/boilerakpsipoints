{
 "cells": [
  {
   "cell_type": "code",
   "execution_count": 115,
   "metadata": {},
   "outputs": [],
   "source": [
    "import pandas as pd \n",
    "import numpy as np \n",
    "import plotnine as pn "
   ]
  },
  {
   "cell_type": "code",
   "execution_count": 116,
   "metadata": {},
   "outputs": [],
   "source": [
    "pd.set_option(\"display.max_rows\", None, \"display.max_columns\", None)"
   ]
  },
  {
   "cell_type": "code",
   "execution_count": 117,
   "metadata": {},
   "outputs": [],
   "source": [
    "def readfile(sheet): #takes in excel spreadsheet and reads it as it is \n",
    "    df = pd.read_excel(sheet)\n",
    "    return df "
   ]
  },
  {
   "cell_type": "code",
   "execution_count": 118,
   "metadata": {},
   "outputs": [],
   "source": [
    "def events(data,numofstudents):  # must take in subset of the first four rows with name of event, date of event, contributive or not, point value per event\n",
    "    data = data.rename(columns={x:y for x,y in zip(data.columns,range(0,len(data.columns)))})\n",
    "    evdacon = []\n",
    "    for i in range(3): \n",
    "        list1 = data.T[i].to_list() \n",
    "        l = []\n",
    "        for i in range(numofstudents): \n",
    "            for m in list1 : \n",
    "                l.append(m) \n",
    "        evdacon.append(l) \n",
    "            \n",
    "    return evdacon "
   ]
  },
  {
   "cell_type": "code",
   "execution_count": 120,
   "metadata": {},
   "outputs": [],
   "source": [
    "def points(points_data, perevent):#function takes in subset of JUST THE POINTS PART OF TABLE with yes and no and rows with point values for each event, and returns with list of \n",
    "    \n",
    "    original_list = perevent.values.tolist()\n",
    "    flattened = [val for sublist in original_list for val in sublist]\n",
    "    \n",
    "    for column in points_data.columns:\n",
    "        ind = points_data.columns.get_loc(column)\n",
    "        point_val = flattened[ind]\n",
    "        list_of_vals = points_data[column].tolist()\n",
    "        for index, item in enumerate(list_of_vals): \n",
    "            if item == \"Yes\":\n",
    "                list_of_vals[index] = point_val\n",
    "            else: \n",
    "                list_of_vals[index] = 0\n",
    "        points_data[column] = list_of_vals\n",
    "    \n",
    "    \n",
    "    \n",
    "    flat = [val for sublist in points_data.values.tolist() for val in sublist]\n",
    "    return flat       "
   ]
  },
  {
   "cell_type": "code",
   "execution_count": 121,
   "metadata": {},
   "outputs": [],
   "source": [
    "def settingup(subset, num_of_cols, checkpoint,ending,events, points): #takes in the subset of names + points columns, takes in number of points of columns, and checkpoint #\n",
    "    for m, row in subset.iterrows(): \n",
    "        for i in range(num_of_cols):\n",
    "            ending = ending.append({'First Name': subset.iloc[:,2].values[m], 'Last Name':subset.iloc[:,1].values[m],\n",
    "                                    'Year': subset.iloc[:,0].values[m] ,'Checkpoint': checkpoint,\n",
    "                                    'Points Goal (In Checkpoint)': float(subset.iloc[:,6].values[m]),\n",
    "                                    'Points Earned(In Checkpoint)': float(subset.iloc[:,5].values[m]), \n",
    "                                    'Points Difference':float((subset.iloc[:,5].values[m])-(subset.iloc[:,6].values[m])), \n",
    "                                    'Good Standing': subset.iloc[:,4].values[m]}, ignore_index=True)\n",
    "    ending[\"Event\"] = events[0]\n",
    "    ending[\"Event Date\"] = events[1]\n",
    "    ending[\"Contributive\"] = events[2]\n",
    "    ending[\"Points Recieved\"] = points\n",
    "    return ending "
   ]
  },
  {
   "cell_type": "code",
   "execution_count": 122,
   "metadata": {},
   "outputs": [
    {
     "data": {
      "text/html": [
       "<div>\n",
       "<style scoped>\n",
       "    .dataframe tbody tr th:only-of-type {\n",
       "        vertical-align: middle;\n",
       "    }\n",
       "\n",
       "    .dataframe tbody tr th {\n",
       "        vertical-align: top;\n",
       "    }\n",
       "\n",
       "    .dataframe thead th {\n",
       "        text-align: right;\n",
       "    }\n",
       "</style>\n",
       "<table border=\"1\" class=\"dataframe\">\n",
       "  <thead>\n",
       "    <tr style=\"text-align: right;\">\n",
       "      <th></th>\n",
       "      <th>First Name</th>\n",
       "      <th>Last Name</th>\n",
       "      <th>Year</th>\n",
       "      <th>Good Standing</th>\n",
       "      <th>Checkpoint</th>\n",
       "      <th>Points Goal (In Checkpoint)</th>\n",
       "      <th>Points Earned(In Checkpoint)</th>\n",
       "      <th>Points Difference</th>\n",
       "      <th>Event</th>\n",
       "      <th>Event Date</th>\n",
       "      <th>Contributive</th>\n",
       "      <th>Points Recieved</th>\n",
       "    </tr>\n",
       "  </thead>\n",
       "  <tbody>\n",
       "    <tr>\n",
       "      <th>0</th>\n",
       "      <td>Shivangi</td>\n",
       "      <td>Agarwal</td>\n",
       "      <td>Senior</td>\n",
       "      <td>Yes</td>\n",
       "      <td>1</td>\n",
       "      <td>21.75</td>\n",
       "      <td>29.0</td>\n",
       "      <td>7.25</td>\n",
       "      <td>Poster Sale</td>\n",
       "      <td>2019-08-19</td>\n",
       "      <td>X</td>\n",
       "      <td>0</td>\n",
       "    </tr>\n",
       "    <tr>\n",
       "      <th>1</th>\n",
       "      <td>Shivangi</td>\n",
       "      <td>Agarwal</td>\n",
       "      <td>Senior</td>\n",
       "      <td>Yes</td>\n",
       "      <td>1</td>\n",
       "      <td>21.75</td>\n",
       "      <td>29.0</td>\n",
       "      <td>7.25</td>\n",
       "      <td>Chapter</td>\n",
       "      <td>2019-08-20</td>\n",
       "      <td>X</td>\n",
       "      <td>0</td>\n",
       "    </tr>\n",
       "    <tr>\n",
       "      <th>2</th>\n",
       "      <td>Shivangi</td>\n",
       "      <td>Agarwal</td>\n",
       "      <td>Senior</td>\n",
       "      <td>Yes</td>\n",
       "      <td>1</td>\n",
       "      <td>21.75</td>\n",
       "      <td>29.0</td>\n",
       "      <td>7.25</td>\n",
       "      <td>Chapter</td>\n",
       "      <td>2019-08-27</td>\n",
       "      <td>X</td>\n",
       "      <td>0</td>\n",
       "    </tr>\n",
       "    <tr>\n",
       "      <th>3</th>\n",
       "      <td>Shivangi</td>\n",
       "      <td>Agarwal</td>\n",
       "      <td>Senior</td>\n",
       "      <td>Yes</td>\n",
       "      <td>1</td>\n",
       "      <td>21.75</td>\n",
       "      <td>29.0</td>\n",
       "      <td>7.25</td>\n",
       "      <td>1 Callout</td>\n",
       "      <td>2019-08-29</td>\n",
       "      <td>X</td>\n",
       "      <td>3</td>\n",
       "    </tr>\n",
       "    <tr>\n",
       "      <th>4</th>\n",
       "      <td>Shivangi</td>\n",
       "      <td>Agarwal</td>\n",
       "      <td>Senior</td>\n",
       "      <td>Yes</td>\n",
       "      <td>1</td>\n",
       "      <td>21.75</td>\n",
       "      <td>29.0</td>\n",
       "      <td>7.25</td>\n",
       "      <td>Extra Callout</td>\n",
       "      <td>2019-08-29</td>\n",
       "      <td>NaN</td>\n",
       "      <td>0</td>\n",
       "    </tr>\n",
       "  </tbody>\n",
       "</table>\n",
       "</div>"
      ],
      "text/plain": [
       "  First Name Last Name    Year Good Standing Checkpoint  \\\n",
       "0   Shivangi   Agarwal  Senior           Yes          1   \n",
       "1   Shivangi   Agarwal  Senior           Yes          1   \n",
       "2   Shivangi   Agarwal  Senior           Yes          1   \n",
       "3   Shivangi   Agarwal  Senior           Yes          1   \n",
       "4   Shivangi   Agarwal  Senior           Yes          1   \n",
       "\n",
       "   Points Goal (In Checkpoint)  Points Earned(In Checkpoint)  \\\n",
       "0                        21.75                          29.0   \n",
       "1                        21.75                          29.0   \n",
       "2                        21.75                          29.0   \n",
       "3                        21.75                          29.0   \n",
       "4                        21.75                          29.0   \n",
       "\n",
       "   Points Difference          Event Event Date Contributive  Points Recieved  \n",
       "0               7.25    Poster Sale 2019-08-19            X                0  \n",
       "1               7.25        Chapter 2019-08-20            X                0  \n",
       "2               7.25        Chapter 2019-08-27            X                0  \n",
       "3               7.25      1 Callout 2019-08-29            X                3  \n",
       "4               7.25  Extra Callout 2019-08-29          NaN                0  "
      ]
     },
     "execution_count": 122,
     "metadata": {},
     "output_type": "execute_result"
    }
   ],
   "source": [
    "settingup(readfile(\"Book1.xlsx\").iloc[5:63, np.r_[0:5,31, 32, 6:19,21,23:28]].reset_index().drop(['index'], axis=1), 19,1, \n",
    "          pd.DataFrame(columns = [\"First Name\", \"Last Name\", \"Year\", \"Good Standing\", \"Checkpoint\", \n",
    "                                 \"Points Goal (In Checkpoint)\", \"Points Earned(In Checkpoint)\",\n",
    "                                 \"Points Difference\", \"Event\", \"Event Date\", \"Contributive\", \"Points Recieved\"]), \n",
    "          events(readfile(\"Book1.xlsx\").iloc[0:4,np.r_[6:19,21,23:28]],58), \n",
    "          points(readfile(\"Book1.xlsx\").iloc[5:63,np.r_[6:19,21,23:28]], readfile(\"Book1.xlsx\").iloc[3:4,np.r_[6:19,21,23:28]]))\n",
    "#currently working on how to do the second part of the checkpoint due to some problems with the difference and structure "
   ]
  },
  {
   "cell_type": "code",
   "execution_count": 124,
   "metadata": {},
   "outputs": [],
   "source": [
    "#readfile(\"Book1.xlsx\")\n",
    "#events(df.iloc[0:4,np.r_[6:19,21,23:28]])"
   ]
  },
  {
   "cell_type": "code",
   "execution_count": 131,
   "metadata": {},
   "outputs": [],
   "source": [
    "#settingup(readfile(\"Book1.xlsx\"))\n",
    "#readfile(\"Book1.xlsx\").iloc[5:63, np.r_[0:5,31, 32, 6:19,21,23:28]]\n",
    "#readfile(\"Book1.xlsx\").iloc[5:63, np.r_[0:5,56, 57, 6:19,21,23:28]]"
   ]
  },
  {
   "cell_type": "code",
   "execution_count": 132,
   "metadata": {},
   "outputs": [],
   "source": [
    "#readfile(\"Book1.xlsx\")"
   ]
  }
 ],
 "metadata": {
  "kernelspec": {
   "display_name": "Python 3",
   "language": "python",
   "name": "python3"
  },
  "language_info": {
   "codemirror_mode": {
    "name": "ipython",
    "version": 3
   },
   "file_extension": ".py",
   "mimetype": "text/x-python",
   "name": "python",
   "nbconvert_exporter": "python",
   "pygments_lexer": "ipython3",
   "version": "3.8.6"
  }
 },
 "nbformat": 4,
 "nbformat_minor": 4
}
